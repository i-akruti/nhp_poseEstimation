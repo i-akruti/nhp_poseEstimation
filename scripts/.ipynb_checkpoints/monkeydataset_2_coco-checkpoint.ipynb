{
 "cells": [
  {
   "cell_type": "code",
   "execution_count": 1,
   "id": "efe11e12",
   "metadata": {},
   "outputs": [],
   "source": [
    "import json\n",
    "import numpy as np\n",
    "import cv2\n",
    "import os\n",
    "import matplotlib.pyplot as plt\n",
    "import random"
   ]
  },
  {
   "cell_type": "code",
   "execution_count": 2,
   "id": "b2b3cd85",
   "metadata": {},
   "outputs": [],
   "source": [
    "with open('train_annotation.json', 'r') as f:\n",
    "    monkey_data = json.load(f)"
   ]
  },
  {
   "cell_type": "code",
   "execution_count": 3,
   "id": "15aca8ec",
   "metadata": {},
   "outputs": [],
   "source": [
    "m_id = 10"
   ]
  },
  {
   "cell_type": "code",
   "execution_count": 4,
   "id": "121d5e26",
   "metadata": {
    "scrolled": true
   },
   "outputs": [
    {
     "data": {
      "text/plain": [
       "{'file': 'train_0000000.jpg',\n",
       " 'species': 'Japanese_macaque',\n",
       " 'bbox': [91, 37, 485, 489],\n",
       " 'landmarks': [183,\n",
       "  190,\n",
       "  218,\n",
       "  185,\n",
       "  200,\n",
       "  214,\n",
       "  161,\n",
       "  107,\n",
       "  303,\n",
       "  170,\n",
       "  253,\n",
       "  198,\n",
       "  261,\n",
       "  276,\n",
       "  213,\n",
       "  420,\n",
       "  338,\n",
       "  192,\n",
       "  380,\n",
       "  320,\n",
       "  165,\n",
       "  445,\n",
       "  506,\n",
       "  429,\n",
       "  291,\n",
       "  297,\n",
       "  321,\n",
       "  451,\n",
       "  503,\n",
       "  235,\n",
       "  434,\n",
       "  456,\n",
       "  473,\n",
       "  450],\n",
       " 'visibility': [1, 1, 1, 1, 1, 1, 1, 1, 1, 1, 1, 1, 1, 1, 1, 1, 0]}"
      ]
     },
     "execution_count": 4,
     "metadata": {},
     "output_type": "execute_result"
    }
   ],
   "source": [
    "monkey_data['data'][0]"
   ]
  },
  {
   "cell_type": "code",
   "execution_count": 11,
   "id": "8dc17ce4",
   "metadata": {},
   "outputs": [],
   "source": [
    "with open('/home/iki/nhpe_light/coco_dataset/annotations/person_keypoints_val2017.json', 'r') as o:\n",
    "    human_data = json.load(o)"
   ]
  },
  {
   "cell_type": "code",
   "execution_count": 12,
   "id": "5c62cfb7",
   "metadata": {},
   "outputs": [
    {
     "data": {
      "text/plain": [
       "{'description': 'COCO 2017 Dataset',\n",
       " 'url': 'http://cocodataset.org',\n",
       " 'version': '1.0',\n",
       " 'year': 2017,\n",
       " 'contributor': 'COCO Consortium',\n",
       " 'date_created': '2017/09/01'}"
      ]
     },
     "execution_count": 12,
     "metadata": {},
     "output_type": "execute_result"
    }
   ],
   "source": [
    "human_data['info']"
   ]
  },
  {
   "cell_type": "code",
   "execution_count": 13,
   "id": "04e1bee5",
   "metadata": {},
   "outputs": [
    {
     "data": {
      "text/plain": [
       "dict_keys(['info', 'licenses', 'images', 'annotations', 'categories'])"
      ]
     },
     "execution_count": 13,
     "metadata": {},
     "output_type": "execute_result"
    }
   ],
   "source": [
    "human_data.keys()"
   ]
  },
  {
   "cell_type": "code",
   "execution_count": 14,
   "id": "c773dac0",
   "metadata": {},
   "outputs": [
    {
     "data": {
      "text/plain": [
       "[{'url': 'http://creativecommons.org/licenses/by-nc-sa/2.0/',\n",
       "  'id': 1,\n",
       "  'name': 'Attribution-NonCommercial-ShareAlike License'},\n",
       " {'url': 'http://creativecommons.org/licenses/by-nc/2.0/',\n",
       "  'id': 2,\n",
       "  'name': 'Attribution-NonCommercial License'},\n",
       " {'url': 'http://creativecommons.org/licenses/by-nc-nd/2.0/',\n",
       "  'id': 3,\n",
       "  'name': 'Attribution-NonCommercial-NoDerivs License'},\n",
       " {'url': 'http://creativecommons.org/licenses/by/2.0/',\n",
       "  'id': 4,\n",
       "  'name': 'Attribution License'},\n",
       " {'url': 'http://creativecommons.org/licenses/by-sa/2.0/',\n",
       "  'id': 5,\n",
       "  'name': 'Attribution-ShareAlike License'},\n",
       " {'url': 'http://creativecommons.org/licenses/by-nd/2.0/',\n",
       "  'id': 6,\n",
       "  'name': 'Attribution-NoDerivs License'},\n",
       " {'url': 'http://flickr.com/commons/usage/',\n",
       "  'id': 7,\n",
       "  'name': 'No known copyright restrictions'},\n",
       " {'url': 'http://www.usa.gov/copyright.shtml',\n",
       "  'id': 8,\n",
       "  'name': 'United States Government Work'}]"
      ]
     },
     "execution_count": 14,
     "metadata": {},
     "output_type": "execute_result"
    }
   ],
   "source": [
    "human_data['licenses']"
   ]
  },
  {
   "cell_type": "code",
   "execution_count": 15,
   "id": "7a9dd241",
   "metadata": {},
   "outputs": [
    {
     "data": {
      "text/plain": [
       "{'license': 4,\n",
       " 'file_name': '000000397133.jpg',\n",
       " 'coco_url': 'http://images.cocodataset.org/val2017/000000397133.jpg',\n",
       " 'height': 427,\n",
       " 'width': 640,\n",
       " 'date_captured': '2013-11-14 17:02:52',\n",
       " 'flickr_url': 'http://farm7.staticflickr.com/6116/6255196340_da26cf2c9e_z.jpg',\n",
       " 'id': 397133}"
      ]
     },
     "execution_count": 15,
     "metadata": {},
     "output_type": "execute_result"
    }
   ],
   "source": [
    "human_data['images'][0]"
   ]
  },
  {
   "cell_type": "code",
   "execution_count": 17,
   "id": "8c4fa513",
   "metadata": {
    "scrolled": true
   },
   "outputs": [
    {
     "data": {
      "text/plain": [
       "dict_keys(['segmentation', 'num_keypoints', 'area', 'iscrowd', 'keypoints', 'image_id', 'bbox', 'category_id', 'id'])"
      ]
     },
     "execution_count": 17,
     "metadata": {},
     "output_type": "execute_result"
    }
   ],
   "source": [
    "human_data['annotations'][0].keys()"
   ]
  },
  {
   "cell_type": "code",
   "execution_count": 23,
   "id": "9b223607",
   "metadata": {},
   "outputs": [
    {
     "data": {
      "text/plain": [
       "{'segmentation': [[125.12,\n",
       "   539.69,\n",
       "   140.94,\n",
       "   522.43,\n",
       "   100.67,\n",
       "   496.54,\n",
       "   84.85,\n",
       "   469.21,\n",
       "   73.35,\n",
       "   450.52,\n",
       "   104.99,\n",
       "   342.65,\n",
       "   168.27,\n",
       "   290.88,\n",
       "   179.78,\n",
       "   288,\n",
       "   189.84,\n",
       "   286.56,\n",
       "   191.28,\n",
       "   260.67,\n",
       "   202.79,\n",
       "   240.54,\n",
       "   221.48,\n",
       "   237.66,\n",
       "   248.81,\n",
       "   243.42,\n",
       "   257.44,\n",
       "   256.36,\n",
       "   253.12,\n",
       "   262.11,\n",
       "   253.12,\n",
       "   275.06,\n",
       "   299.15,\n",
       "   233.35,\n",
       "   329.35,\n",
       "   207.46,\n",
       "   355.24,\n",
       "   206.02,\n",
       "   363.87,\n",
       "   206.02,\n",
       "   365.3,\n",
       "   210.34,\n",
       "   373.93,\n",
       "   221.84,\n",
       "   363.87,\n",
       "   226.16,\n",
       "   363.87,\n",
       "   237.66,\n",
       "   350.92,\n",
       "   237.66,\n",
       "   332.22,\n",
       "   234.79,\n",
       "   314.97,\n",
       "   249.17,\n",
       "   271.82,\n",
       "   313.89,\n",
       "   253.12,\n",
       "   326.83,\n",
       "   227.24,\n",
       "   352.72,\n",
       "   214.29,\n",
       "   357.03,\n",
       "   212.85,\n",
       "   372.85,\n",
       "   208.54,\n",
       "   395.87,\n",
       "   228.67,\n",
       "   414.56,\n",
       "   245.93,\n",
       "   421.75,\n",
       "   266.07,\n",
       "   424.63,\n",
       "   276.13,\n",
       "   437.57,\n",
       "   266.07,\n",
       "   450.52,\n",
       "   284.76,\n",
       "   464.9,\n",
       "   286.2,\n",
       "   479.28,\n",
       "   291.96,\n",
       "   489.35,\n",
       "   310.65,\n",
       "   512.36,\n",
       "   284.76,\n",
       "   549.75,\n",
       "   244.49,\n",
       "   522.43,\n",
       "   215.73,\n",
       "   546.88,\n",
       "   199.91,\n",
       "   558.38,\n",
       "   204.22,\n",
       "   565.57,\n",
       "   189.84,\n",
       "   568.45,\n",
       "   184.09,\n",
       "   575.64,\n",
       "   172.58,\n",
       "   578.52,\n",
       "   145.26,\n",
       "   567.01,\n",
       "   117.93,\n",
       "   551.19,\n",
       "   133.75,\n",
       "   532.49]],\n",
       " 'num_keypoints': 10,\n",
       " 'area': 47803.27955,\n",
       " 'iscrowd': 0,\n",
       " 'keypoints': [0,\n",
       "  0,\n",
       "  0,\n",
       "  0,\n",
       "  0,\n",
       "  0,\n",
       "  0,\n",
       "  0,\n",
       "  0,\n",
       "  0,\n",
       "  0,\n",
       "  0,\n",
       "  0,\n",
       "  0,\n",
       "  0,\n",
       "  142,\n",
       "  309,\n",
       "  1,\n",
       "  177,\n",
       "  320,\n",
       "  2,\n",
       "  191,\n",
       "  398,\n",
       "  2,\n",
       "  237,\n",
       "  317,\n",
       "  2,\n",
       "  233,\n",
       "  426,\n",
       "  2,\n",
       "  306,\n",
       "  233,\n",
       "  2,\n",
       "  92,\n",
       "  452,\n",
       "  2,\n",
       "  123,\n",
       "  468,\n",
       "  2,\n",
       "  0,\n",
       "  0,\n",
       "  0,\n",
       "  251,\n",
       "  469,\n",
       "  2,\n",
       "  0,\n",
       "  0,\n",
       "  0,\n",
       "  162,\n",
       "  551,\n",
       "  2],\n",
       " 'image_id': 425226,\n",
       " 'bbox': [73.35, 206.02, 300.58, 372.5],\n",
       " 'category_id': 1,\n",
       " 'id': 183126}"
      ]
     },
     "execution_count": 23,
     "metadata": {},
     "output_type": "execute_result"
    }
   ],
   "source": [
    "human_data['annotations'][0]"
   ]
  },
  {
   "cell_type": "code",
   "execution_count": 52,
   "id": "efb2f08a",
   "metadata": {
    "scrolled": true
   },
   "outputs": [
    {
     "data": {
      "text/plain": [
       "{'supercategory': 'person',\n",
       " 'id': 1,\n",
       " 'name': 'person',\n",
       " 'keypoints': ['nose',\n",
       "  'left_eye',\n",
       "  'right_eye',\n",
       "  'left_ear',\n",
       "  'right_ear',\n",
       "  'left_shoulder',\n",
       "  'right_shoulder',\n",
       "  'left_elbow',\n",
       "  'right_elbow',\n",
       "  'left_wrist',\n",
       "  'right_wrist',\n",
       "  'left_hip',\n",
       "  'right_hip',\n",
       "  'left_knee',\n",
       "  'right_knee',\n",
       "  'left_ankle',\n",
       "  'right_ankle'],\n",
       " 'skeleton': [[16, 14],\n",
       "  [14, 12],\n",
       "  [17, 15],\n",
       "  [15, 13],\n",
       "  [12, 13],\n",
       "  [6, 12],\n",
       "  [7, 13],\n",
       "  [6, 7],\n",
       "  [6, 8],\n",
       "  [7, 9],\n",
       "  [8, 10],\n",
       "  [9, 11],\n",
       "  [2, 3],\n",
       "  [1, 2],\n",
       "  [1, 3],\n",
       "  [2, 4],\n",
       "  [3, 5],\n",
       "  [4, 6],\n",
       "  [5, 7]]}"
      ]
     },
     "execution_count": 52,
     "metadata": {},
     "output_type": "execute_result"
    }
   ],
   "source": [
    "human_data['categories'][0]"
   ]
  },
  {
   "cell_type": "code",
   "execution_count": 5,
   "id": "7fe0cd4f",
   "metadata": {},
   "outputs": [],
   "source": [
    "monkey_coco_dataset = dict()"
   ]
  },
  {
   "cell_type": "markdown",
   "id": "a5029265",
   "metadata": {},
   "source": [
    "### Adding info\n"
   ]
  },
  {
   "cell_type": "code",
   "execution_count": 6,
   "id": "a222ca0a",
   "metadata": {},
   "outputs": [],
   "source": [
    "m_info = {\n",
    "    'description': 'Open Monkey Challenge Dataset COCO',\n",
    "    'url' : 'http://openmonkeychallenge.com/challenge.html',\n",
    "    'version' : '1.0',\n",
    "    'year': '2022',\n",
    "    'contributor': 'na',\n",
    "    'date_created': 'na'\n",
    "}"
   ]
  },
  {
   "cell_type": "markdown",
   "id": "f06e136f",
   "metadata": {},
   "source": [
    "### Adding licences"
   ]
  },
  {
   "cell_type": "code",
   "execution_count": 7,
   "id": "0feb3385",
   "metadata": {},
   "outputs": [],
   "source": [
    "m_license = [{'url': 'na',\n",
    "  'id': 0,\n",
    "  'name': 'na'}]"
   ]
  },
  {
   "cell_type": "markdown",
   "id": "63f24170",
   "metadata": {},
   "source": [
    "### Adding images"
   ]
  },
  {
   "cell_type": "code",
   "execution_count": 8,
   "id": "ea4c2c50",
   "metadata": {},
   "outputs": [],
   "source": [
    "m_images = list()\n",
    "image_path = 'train'\n",
    "img_id = 0\n",
    "for file in os.listdir(image_path):\n",
    "    img = cv2.imread(os.path.join(image_path, file))\n",
    "    height, width, _ = img.shape\n",
    "   \n",
    "    img_info = dict()\n",
    "    img_info['license'] = 0\n",
    "    img_info['file_name'] = file\n",
    "    img_info['height'] = height\n",
    "    img_info['width'] = width\n",
    "    img_info['image_id'] = img_id\n",
    "    img_info['coco_url'] = 'na'\n",
    "    img_info['date_captured'] = 'na'\n",
    "    img_info['flickr_url'] = 'na'\n",
    "    \n",
    "    m_images.append(img_info)\n",
    "    img_id += 1\n",
    "    \n"
   ]
  },
  {
   "cell_type": "markdown",
   "id": "7e8d532b",
   "metadata": {},
   "source": [
    "### Adding annotations"
   ]
  },
  {
   "cell_type": "code",
   "execution_count": 9,
   "id": "12760aa2",
   "metadata": {},
   "outputs": [],
   "source": [
    "m_annotations = list()\n",
    "anno_path = ''\n",
    "\n",
    "categories_list = list()\n",
    "\n",
    "with open('train_annotation.json', 'r') as f:\n",
    "    anno_m_data = json.load(f)\n",
    "\n",
    "for img_path in m_images:\n",
    "    path = img_path['file_name']\n",
    "    for op_anno in anno_m_data['data']:\n",
    "        if path == op_anno['file']:\n",
    "            \n",
    "#             area calculation\n",
    "            bbox_area = (op_anno['bbox'][2])*(op_anno['bbox'][3])\n",
    "            \n",
    "#     Annotation keypoints\n",
    "            ld_marks = op_anno['landmarks']\n",
    "            ld_keys = [ld_marks[i:i+2] for i in range(0, len(ld_marks), 2)]\n",
    "            vis_keys = op_anno['visibility']\n",
    "            vis_keys = [i+1 for i in vis_keys]\n",
    "            key_annotations = list()\n",
    "            for x in range(len(vis_keys)):\n",
    "                v = vis_keys[x]\n",
    "                x_ann, y_ann = ld_keys[x]\n",
    "                key_annotations.append(x_ann)\n",
    "                key_annotations.append(y_ann)\n",
    "                key_annotations.append(v)\n",
    "\n",
    "            c_dict = dict()\n",
    "            c_dict['segmentation'] = list()\n",
    "            c_dict['num_keypoints'] = 17\n",
    "            c_dict['area'] = bbox_area\n",
    "            c_dict['iscrowd'] = 0\n",
    "            c_dict['keypoints'] = key_annotations\n",
    "            c_dict['image_id'] = img_path['image_id']\n",
    "            c_dict['bbox'] = op_anno['bbox']\n",
    "            c_dict['category_id'] = 0\n",
    "            c_dict['id'] = random.randint(0, 22306)\n",
    "            \n",
    "            m_annotations.append(c_dict)\n",
    "            \n",
    "#          Categories dict\n",
    "            cat_dict = dict()\n",
    "            cat_dict['supercategory'] = op_anno['species']\n",
    "            cat_dict['id'] = 0\n",
    "            cat_dict['name'] = 'monkey'\n",
    "            cat_dict['keypoints'] = list()\n",
    "            cat_dict['skeleton'] = list()\n",
    "            categories_list.append(cat_dict)"
   ]
  },
  {
   "cell_type": "code",
   "execution_count": 10,
   "id": "f3dc6d7f",
   "metadata": {
    "scrolled": true
   },
   "outputs": [
    {
     "data": {
      "text/plain": [
       "66917"
      ]
     },
     "execution_count": 10,
     "metadata": {},
     "output_type": "execute_result"
    }
   ],
   "source": [
    "len(m_annotations)"
   ]
  },
  {
   "cell_type": "markdown",
   "id": "41588c18",
   "metadata": {},
   "source": [
    "### Adding all up"
   ]
  },
  {
   "cell_type": "code",
   "execution_count": 11,
   "id": "e9b39ba1",
   "metadata": {},
   "outputs": [],
   "source": [
    "monkey_coco_dataset['info'] = m_info\n",
    "monkey_coco_dataset['licenses'] = m_license\n",
    "monkey_coco_dataset['images'] = m_images\n",
    "monkey_coco_dataset['annotations'] = m_annotations\n",
    "monkey_coco_dataset['categories'] = categories_list"
   ]
  },
  {
   "cell_type": "code",
   "execution_count": 12,
   "id": "1cc89eef",
   "metadata": {},
   "outputs": [
    {
     "data": {
      "text/plain": [
       "5"
      ]
     },
     "execution_count": 12,
     "metadata": {},
     "output_type": "execute_result"
    }
   ],
   "source": [
    "len(monkey_coco_dataset)"
   ]
  },
  {
   "cell_type": "code",
   "execution_count": 13,
   "id": "0c549e3b",
   "metadata": {},
   "outputs": [],
   "source": [
    "with open('train_monkey2coco.json', 'w') as json_file:\n",
    "    json.dump(monkey_coco_dataset, json_file)"
   ]
  },
  {
   "cell_type": "code",
   "execution_count": 15,
   "id": "9b06ddfe",
   "metadata": {},
   "outputs": [
    {
     "data": {
      "text/plain": [
       "{'description': 'Open Monkey Challenge Dataset COCO',\n",
       " 'url': 'http://openmonkeychallenge.com/challenge.html',\n",
       " 'version': '1.0',\n",
       " 'year': '2022',\n",
       " 'contributor': 'na',\n",
       " 'date_created': 'na'}"
      ]
     },
     "execution_count": 15,
     "metadata": {},
     "output_type": "execute_result"
    }
   ],
   "source": [
    "monkey_coco_dataset['info']"
   ]
  },
  {
   "cell_type": "code",
   "execution_count": 17,
   "id": "5d7d1591",
   "metadata": {},
   "outputs": [
    {
     "data": {
      "text/plain": [
       "{'file': 'train_0000000.jpg',\n",
       " 'species': 'Japanese_macaque',\n",
       " 'bbox': [91, 37, 485, 489],\n",
       " 'landmarks': [183,\n",
       "  190,\n",
       "  218,\n",
       "  185,\n",
       "  200,\n",
       "  214,\n",
       "  161,\n",
       "  107,\n",
       "  303,\n",
       "  170,\n",
       "  253,\n",
       "  198,\n",
       "  261,\n",
       "  276,\n",
       "  213,\n",
       "  420,\n",
       "  338,\n",
       "  192,\n",
       "  380,\n",
       "  320,\n",
       "  165,\n",
       "  445,\n",
       "  506,\n",
       "  429,\n",
       "  291,\n",
       "  297,\n",
       "  321,\n",
       "  451,\n",
       "  503,\n",
       "  235,\n",
       "  434,\n",
       "  456,\n",
       "  473,\n",
       "  450],\n",
       " 'visibility': [1, 1, 1, 1, 1, 1, 1, 1, 1, 1, 1, 1, 1, 1, 1, 1, 0]}"
      ]
     },
     "execution_count": 17,
     "metadata": {},
     "output_type": "execute_result"
    }
   ],
   "source": [
    "monkey_data['data'][0]"
   ]
  },
  {
   "cell_type": "code",
   "execution_count": 18,
   "id": "fe3d93b8",
   "metadata": {},
   "outputs": [],
   "source": [
    "keypts = [monkey_data['data'][0]['landmarks'][x:x+2] for x in range(0, len(monkey_data['data'][0]['landmarks']), 2)]"
   ]
  },
  {
   "cell_type": "code",
   "execution_count": 21,
   "id": "60153701",
   "metadata": {},
   "outputs": [],
   "source": [
    "a = keypts[3]\n",
    "b = keypts[4]"
   ]
  },
  {
   "cell_type": "code",
   "execution_count": 27,
   "id": "3be45027",
   "metadata": {},
   "outputs": [
    {
     "data": {
      "text/plain": [
       "161"
      ]
     },
     "execution_count": 27,
     "metadata": {},
     "output_type": "execute_result"
    }
   ],
   "source": [
    "a[0]"
   ]
  },
  {
   "cell_type": "code",
   "execution_count": 28,
   "id": "6ff52ca1",
   "metadata": {},
   "outputs": [
    {
     "data": {
      "text/plain": [
       "303"
      ]
     },
     "execution_count": 28,
     "metadata": {},
     "output_type": "execute_result"
    }
   ],
   "source": [
    "b[0]"
   ]
  },
  {
   "cell_type": "code",
   "execution_count": null,
   "id": "4c93b6b7",
   "metadata": {},
   "outputs": [],
   "source": []
  }
 ],
 "metadata": {
  "kernelspec": {
   "display_name": "Python 3 (ipykernel)",
   "language": "python",
   "name": "python3"
  },
  "language_info": {
   "codemirror_mode": {
    "name": "ipython",
    "version": 3
   },
   "file_extension": ".py",
   "mimetype": "text/x-python",
   "name": "python",
   "nbconvert_exporter": "python",
   "pygments_lexer": "ipython3",
   "version": "3.8.10"
  }
 },
 "nbformat": 4,
 "nbformat_minor": 5
}
