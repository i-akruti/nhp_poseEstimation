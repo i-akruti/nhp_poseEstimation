{
 "cells": [
  {
   "cell_type": "code",
   "execution_count": 1,
   "id": "dd055b96",
   "metadata": {},
   "outputs": [],
   "source": [
    "import json\n",
    "import numpy as np\n",
    "import cv2\n",
    "import os\n",
    "import matplotlib.pyplot as plt\n",
    "import random"
   ]
  },
  {
   "cell_type": "code",
   "execution_count": 34,
   "id": "398e28a6",
   "metadata": {},
   "outputs": [],
   "source": [
    "monkey_coco_dataset = dict()"
   ]
  },
  {
   "cell_type": "markdown",
   "id": "3d90f58f",
   "metadata": {},
   "source": [
    "### Adding info\n"
   ]
  },
  {
   "cell_type": "code",
   "execution_count": 35,
   "id": "fec581a5",
   "metadata": {},
   "outputs": [],
   "source": [
    "m_info = {\n",
    "    'description': 'Open Monkey Challenge Dataset COCO',\n",
    "    'url' : 'http://openmonkeychallenge.com/challenge.html',\n",
    "    'version' : '1.0',\n",
    "    'year': '2022',\n",
    "    'contributor': 'na',\n",
    "    'date_created': 'na'\n",
    "}"
   ]
  },
  {
   "cell_type": "markdown",
   "id": "b8f89508",
   "metadata": {},
   "source": [
    "### Adding licences"
   ]
  },
  {
   "cell_type": "code",
   "execution_count": 36,
   "id": "7cd30283",
   "metadata": {},
   "outputs": [],
   "source": [
    "m_license = [{'url': 'na',\n",
    "  'id': 0,\n",
    "  'name': 'na'}]"
   ]
  },
  {
   "cell_type": "markdown",
   "id": "77f0f818",
   "metadata": {},
   "source": [
    "### Adding images"
   ]
  },
  {
   "cell_type": "code",
   "execution_count": 37,
   "id": "4308cdf3",
   "metadata": {},
   "outputs": [],
   "source": [
    "m_images = list()\n",
    "image_path = 'Add path to the OpenMonkeyChallenge image data folder'\n",
    "img_id = 0\n",
    "for file in os.listdir(image_path):\n",
    "    img = cv2.imread(os.path.join(image_path, file))\n",
    "    height, width, _ = img.shape\n",
    "   \n",
    "    img_info = dict()\n",
    "    img_info['license'] = 0\n",
    "    img_info['file_name'] = file\n",
    "    img_info['height'] = height\n",
    "    img_info['width'] = width\n",
    "    img_info['id'] = img_id\n",
    "    img_info['coco_url'] = 'na'\n",
    "    img_info['date_captured'] = 'na'\n",
    "    img_info['flickr_url'] = 'na'\n",
    "    \n",
    "    m_images.append(img_info)\n",
    "    img_id += 1\n",
    "    \n"
   ]
  },
  {
   "cell_type": "markdown",
   "id": "8b25ebcf",
   "metadata": {},
   "source": [
    "### Adding annotations"
   ]
  },
  {
   "cell_type": "code",
   "execution_count": 38,
   "id": "4d985a08",
   "metadata": {},
   "outputs": [],
   "source": [
    "m_annotations = list()\n",
    "anno_path = ''\n",
    "\n",
    "categories_list = list()\n",
    "\n",
    "with open('Add path to the annotated json', 'r') as f:\n",
    "    anno_m_data = json.load(f)\n",
    "\n",
    "for img_path in m_images:\n",
    "    path = img_path['file_name']\n",
    "    for op_anno in anno_m_data['data']:\n",
    "        if path == op_anno['file']:\n",
    "            \n",
    "#             area calculation\n",
    "            bbox_area = (op_anno['bbox'][2])*(op_anno['bbox'][3])\n",
    "            \n",
    "#     Annotation keypoints\n",
    "            ld_marks = op_anno['landmarks']\n",
    "            ld_keys = [ld_marks[i:i+2] for i in range(0, len(ld_marks), 2)]\n",
    "            vis_keys = op_anno['visibility']\n",
    "            vis_keys = [i+1 for i in vis_keys]\n",
    "            key_annotations = list()\n",
    "            for x in range(len(vis_keys)):\n",
    "                v = vis_keys[x]\n",
    "                x_ann, y_ann = ld_keys[x]\n",
    "                key_annotations.append(x_ann)\n",
    "                key_annotations.append(y_ann)\n",
    "                key_annotations.append(v)\n",
    "\n",
    "            c_dict = dict()\n",
    "            c_dict['segmentation'] = list()\n",
    "            c_dict['num_keypoints'] = 17\n",
    "            c_dict['area'] = bbox_area\n",
    "            c_dict['iscrowd'] = 0\n",
    "            c_dict['keypoints'] = key_annotations\n",
    "            c_dict['image_id'] = img_path['id']\n",
    "            c_dict['bbox'] = op_anno['bbox']\n",
    "            c_dict['category_id'] = 0\n",
    "            c_dict['id'] = 'na'\n",
    "            \n",
    "            m_annotations.append(c_dict)\n",
    "            \n",
    "#          Categories dict\n",
    "            cat_dict = dict()\n",
    "            cat_dict['supercategory'] = op_anno['species']\n",
    "            cat_dict['id'] = 0\n",
    "            cat_dict['name'] = 'monkey'\n",
    "            cat_dict['keypoints'] = list()\n",
    "            cat_dict['skeleton'] = list()\n",
    "            categories_list.append(cat_dict)"
   ]
  },
  {
   "cell_type": "code",
   "execution_count": 39,
   "id": "94903445",
   "metadata": {
    "scrolled": true
   },
   "outputs": [
    {
     "data": {
      "text/plain": [
       "34"
      ]
     },
     "execution_count": 39,
     "metadata": {},
     "output_type": "execute_result"
    }
   ],
   "source": [
    "len(m_annotations)"
   ]
  },
  {
   "cell_type": "markdown",
   "id": "f621cde7",
   "metadata": {},
   "source": [
    "### Adding all up"
   ]
  },
  {
   "cell_type": "code",
   "execution_count": 40,
   "id": "4d9acac0",
   "metadata": {},
   "outputs": [],
   "source": [
    "monkey_coco_dataset['info'] = m_info\n",
    "monkey_coco_dataset['licenses'] = m_license\n",
    "monkey_coco_dataset['images'] = m_images\n",
    "monkey_coco_dataset['annotations'] = m_annotations\n",
    "monkey_coco_dataset['categories'] = categories_list"
   ]
  },
  {
   "cell_type": "code",
   "execution_count": 41,
   "id": "f6d41951",
   "metadata": {},
   "outputs": [
    {
     "data": {
      "text/plain": [
       "5"
      ]
     },
     "execution_count": 41,
     "metadata": {},
     "output_type": "execute_result"
    }
   ],
   "source": [
    "len(monkey_coco_dataset)"
   ]
  },
  {
   "cell_type": "code",
   "execution_count": 42,
   "id": "2bfcf10f",
   "metadata": {},
   "outputs": [],
   "source": [
    "with open('Add path to store OpenMonkeyChallenge annotation file in coco format', 'w') as json_file:\n",
    "    json.dump(monkey_coco_dataset, json_file)"
   ]
  }
 ],
 "metadata": {
  "kernelspec": {
   "display_name": "Python 3 (ipykernel)",
   "language": "python",
   "name": "python3"
  },
  "language_info": {
   "codemirror_mode": {
    "name": "ipython",
    "version": 3
   },
   "file_extension": ".py",
   "mimetype": "text/x-python",
   "name": "python",
   "nbconvert_exporter": "python",
   "pygments_lexer": "ipython3",
   "version": "3.8.10"
  }
 },
 "nbformat": 4,
 "nbformat_minor": 5
}
